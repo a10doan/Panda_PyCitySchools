{
 "cells": [
  {
   "cell_type": "code",
   "execution_count": 1,
   "metadata": {},
   "outputs": [],
   "source": [
    "import pandas as pd\n",
    "import os\n",
    "schools_csv = os.path.join('raw_data', 'schools_complete.csv')\n",
    "students_csv = os.path.join('raw_data', 'students_complete.csv')\n",
    "schools_df = pd.read_csv(schools_csv)\n",
    "students_df = pd.read_csv(students_csv)\n"
   ]
  },
  {
   "cell_type": "code",
   "execution_count": 2,
   "metadata": {},
   "outputs": [
    {
     "data": {
      "text/plain": [
       "Index(['School ID', 'school', 'type', 'size', 'budget'], dtype='object')"
      ]
     },
     "execution_count": 2,
     "metadata": {},
     "output_type": "execute_result"
    }
   ],
   "source": [
    "schools_df = schools_df.rename(columns = {'name':'school'})\n",
    "schools_df.columns"
   ]
  },
  {
   "cell_type": "code",
   "execution_count": 3,
   "metadata": {},
   "outputs": [
    {
     "data": {
      "text/html": [
       "<div>\n",
       "<style>\n",
       "    .dataframe thead tr:only-child th {\n",
       "        text-align: right;\n",
       "    }\n",
       "\n",
       "    .dataframe thead th {\n",
       "        text-align: left;\n",
       "    }\n",
       "\n",
       "    .dataframe tbody tr th {\n",
       "        vertical-align: top;\n",
       "    }\n",
       "</style>\n",
       "<table border=\"1\" class=\"dataframe\">\n",
       "  <thead>\n",
       "    <tr style=\"text-align: right;\">\n",
       "      <th></th>\n",
       "      <th>School ID</th>\n",
       "      <th>school</th>\n",
       "      <th>type</th>\n",
       "      <th>size</th>\n",
       "      <th>budget</th>\n",
       "    </tr>\n",
       "  </thead>\n",
       "  <tbody>\n",
       "    <tr>\n",
       "      <th>0</th>\n",
       "      <td>0</td>\n",
       "      <td>Huang High School</td>\n",
       "      <td>District</td>\n",
       "      <td>2917</td>\n",
       "      <td>1910635</td>\n",
       "    </tr>\n",
       "    <tr>\n",
       "      <th>1</th>\n",
       "      <td>1</td>\n",
       "      <td>Figueroa High School</td>\n",
       "      <td>District</td>\n",
       "      <td>2949</td>\n",
       "      <td>1884411</td>\n",
       "    </tr>\n",
       "    <tr>\n",
       "      <th>2</th>\n",
       "      <td>2</td>\n",
       "      <td>Shelton High School</td>\n",
       "      <td>Charter</td>\n",
       "      <td>1761</td>\n",
       "      <td>1056600</td>\n",
       "    </tr>\n",
       "    <tr>\n",
       "      <th>3</th>\n",
       "      <td>3</td>\n",
       "      <td>Hernandez High School</td>\n",
       "      <td>District</td>\n",
       "      <td>4635</td>\n",
       "      <td>3022020</td>\n",
       "    </tr>\n",
       "    <tr>\n",
       "      <th>4</th>\n",
       "      <td>4</td>\n",
       "      <td>Griffin High School</td>\n",
       "      <td>Charter</td>\n",
       "      <td>1468</td>\n",
       "      <td>917500</td>\n",
       "    </tr>\n",
       "  </tbody>\n",
       "</table>\n",
       "</div>"
      ],
      "text/plain": [
       "   School ID                 school      type  size   budget\n",
       "0          0      Huang High School  District  2917  1910635\n",
       "1          1   Figueroa High School  District  2949  1884411\n",
       "2          2    Shelton High School   Charter  1761  1056600\n",
       "3          3  Hernandez High School  District  4635  3022020\n",
       "4          4    Griffin High School   Charter  1468   917500"
      ]
     },
     "execution_count": 3,
     "metadata": {},
     "output_type": "execute_result"
    }
   ],
   "source": [
    "schools_df.head()"
   ]
  },
  {
   "cell_type": "markdown",
   "metadata": {},
   "source": [
    "## District summary:\n",
    "* Total Schools\n",
    "* Total Students\n",
    "* Total Budget\n",
    "* Average Math Score\n",
    "* Average Reading Score\n",
    "* % Passing Math\n",
    "* % Passing Reading\n",
    "* Overall Passing Rate (Average of the above two)"
   ]
  },
  {
   "cell_type": "code",
   "execution_count": 4,
   "metadata": {},
   "outputs": [
    {
     "data": {
      "text/html": [
       "<div>\n",
       "<style>\n",
       "    .dataframe thead tr:only-child th {\n",
       "        text-align: right;\n",
       "    }\n",
       "\n",
       "    .dataframe thead th {\n",
       "        text-align: left;\n",
       "    }\n",
       "\n",
       "    .dataframe tbody tr th {\n",
       "        vertical-align: top;\n",
       "    }\n",
       "</style>\n",
       "<table border=\"1\" class=\"dataframe\">\n",
       "  <thead>\n",
       "    <tr style=\"text-align: right;\">\n",
       "      <th></th>\n",
       "      <th>Student ID</th>\n",
       "      <th>name</th>\n",
       "      <th>gender</th>\n",
       "      <th>grade</th>\n",
       "      <th>school</th>\n",
       "      <th>reading_score</th>\n",
       "      <th>math_score</th>\n",
       "      <th>School ID</th>\n",
       "      <th>type</th>\n",
       "      <th>size</th>\n",
       "      <th>budget</th>\n",
       "    </tr>\n",
       "  </thead>\n",
       "  <tbody>\n",
       "    <tr>\n",
       "      <th>0</th>\n",
       "      <td>0</td>\n",
       "      <td>Paul Bradley</td>\n",
       "      <td>M</td>\n",
       "      <td>9th</td>\n",
       "      <td>Huang High School</td>\n",
       "      <td>66</td>\n",
       "      <td>79</td>\n",
       "      <td>0</td>\n",
       "      <td>District</td>\n",
       "      <td>2917</td>\n",
       "      <td>1910635</td>\n",
       "    </tr>\n",
       "    <tr>\n",
       "      <th>1</th>\n",
       "      <td>1</td>\n",
       "      <td>Victor Smith</td>\n",
       "      <td>M</td>\n",
       "      <td>12th</td>\n",
       "      <td>Huang High School</td>\n",
       "      <td>94</td>\n",
       "      <td>61</td>\n",
       "      <td>0</td>\n",
       "      <td>District</td>\n",
       "      <td>2917</td>\n",
       "      <td>1910635</td>\n",
       "    </tr>\n",
       "    <tr>\n",
       "      <th>2</th>\n",
       "      <td>2</td>\n",
       "      <td>Kevin Rodriguez</td>\n",
       "      <td>M</td>\n",
       "      <td>12th</td>\n",
       "      <td>Huang High School</td>\n",
       "      <td>90</td>\n",
       "      <td>60</td>\n",
       "      <td>0</td>\n",
       "      <td>District</td>\n",
       "      <td>2917</td>\n",
       "      <td>1910635</td>\n",
       "    </tr>\n",
       "    <tr>\n",
       "      <th>3</th>\n",
       "      <td>3</td>\n",
       "      <td>Dr. Richard Scott</td>\n",
       "      <td>M</td>\n",
       "      <td>12th</td>\n",
       "      <td>Huang High School</td>\n",
       "      <td>67</td>\n",
       "      <td>58</td>\n",
       "      <td>0</td>\n",
       "      <td>District</td>\n",
       "      <td>2917</td>\n",
       "      <td>1910635</td>\n",
       "    </tr>\n",
       "    <tr>\n",
       "      <th>4</th>\n",
       "      <td>4</td>\n",
       "      <td>Bonnie Ray</td>\n",
       "      <td>F</td>\n",
       "      <td>9th</td>\n",
       "      <td>Huang High School</td>\n",
       "      <td>97</td>\n",
       "      <td>84</td>\n",
       "      <td>0</td>\n",
       "      <td>District</td>\n",
       "      <td>2917</td>\n",
       "      <td>1910635</td>\n",
       "    </tr>\n",
       "  </tbody>\n",
       "</table>\n",
       "</div>"
      ],
      "text/plain": [
       "   Student ID               name gender grade             school  \\\n",
       "0           0       Paul Bradley      M   9th  Huang High School   \n",
       "1           1       Victor Smith      M  12th  Huang High School   \n",
       "2           2    Kevin Rodriguez      M  12th  Huang High School   \n",
       "3           3  Dr. Richard Scott      M  12th  Huang High School   \n",
       "4           4         Bonnie Ray      F   9th  Huang High School   \n",
       "\n",
       "   reading_score  math_score  School ID      type  size   budget  \n",
       "0             66          79          0  District  2917  1910635  \n",
       "1             94          61          0  District  2917  1910635  \n",
       "2             90          60          0  District  2917  1910635  \n",
       "3             67          58          0  District  2917  1910635  \n",
       "4             97          84          0  District  2917  1910635  "
      ]
     },
     "execution_count": 4,
     "metadata": {},
     "output_type": "execute_result"
    }
   ],
   "source": [
    "total_info_df = pd.merge(students_df, schools_df, on='school')\n",
    "total_info_df.head()"
   ]
  },
  {
   "cell_type": "code",
   "execution_count": 5,
   "metadata": {},
   "outputs": [
    {
     "name": "stdout",
     "output_type": "stream",
     "text": [
      "The number of total schools: 15\n"
     ]
    }
   ],
   "source": [
    "total_info_df['school'].unique()\n",
    "print(\"The number of total schools:\" , len(total_info_df['school'].unique()))"
   ]
  },
  {
   "cell_type": "code",
   "execution_count": 6,
   "metadata": {},
   "outputs": [
    {
     "name": "stdout",
     "output_type": "stream",
     "text": [
      "The number of total students: 39170\n"
     ]
    }
   ],
   "source": [
    "total_students = len(total_info_df)\n",
    "print(\"The number of total students:\", str(total_students))"
   ]
  },
  {
   "cell_type": "code",
   "execution_count": 24,
   "metadata": {},
   "outputs": [
    {
     "data": {
      "text/html": [
       "<div>\n",
       "<style>\n",
       "    .dataframe thead tr:only-child th {\n",
       "        text-align: right;\n",
       "    }\n",
       "\n",
       "    .dataframe thead th {\n",
       "        text-align: left;\n",
       "    }\n",
       "\n",
       "    .dataframe tbody tr th {\n",
       "        vertical-align: top;\n",
       "    }\n",
       "</style>\n",
       "<table border=\"1\" class=\"dataframe\">\n",
       "  <thead>\n",
       "    <tr style=\"text-align: right;\">\n",
       "      <th></th>\n",
       "      <th>school</th>\n",
       "      <th>budget</th>\n",
       "    </tr>\n",
       "  </thead>\n",
       "  <tbody>\n",
       "    <tr>\n",
       "      <th>0</th>\n",
       "      <td>Bailey High School</td>\n",
       "      <td>3124928</td>\n",
       "    </tr>\n",
       "    <tr>\n",
       "      <th>1</th>\n",
       "      <td>Cabrera High School</td>\n",
       "      <td>1081356</td>\n",
       "    </tr>\n",
       "    <tr>\n",
       "      <th>2</th>\n",
       "      <td>Figueroa High School</td>\n",
       "      <td>1884411</td>\n",
       "    </tr>\n",
       "    <tr>\n",
       "      <th>3</th>\n",
       "      <td>Ford High School</td>\n",
       "      <td>1763916</td>\n",
       "    </tr>\n",
       "    <tr>\n",
       "      <th>4</th>\n",
       "      <td>Griffin High School</td>\n",
       "      <td>917500</td>\n",
       "    </tr>\n",
       "    <tr>\n",
       "      <th>5</th>\n",
       "      <td>Hernandez High School</td>\n",
       "      <td>3022020</td>\n",
       "    </tr>\n",
       "    <tr>\n",
       "      <th>6</th>\n",
       "      <td>Holden High School</td>\n",
       "      <td>248087</td>\n",
       "    </tr>\n",
       "    <tr>\n",
       "      <th>7</th>\n",
       "      <td>Huang High School</td>\n",
       "      <td>1910635</td>\n",
       "    </tr>\n",
       "    <tr>\n",
       "      <th>8</th>\n",
       "      <td>Johnson High School</td>\n",
       "      <td>3094650</td>\n",
       "    </tr>\n",
       "    <tr>\n",
       "      <th>9</th>\n",
       "      <td>Pena High School</td>\n",
       "      <td>585858</td>\n",
       "    </tr>\n",
       "    <tr>\n",
       "      <th>10</th>\n",
       "      <td>Rodriguez High School</td>\n",
       "      <td>2547363</td>\n",
       "    </tr>\n",
       "    <tr>\n",
       "      <th>11</th>\n",
       "      <td>Shelton High School</td>\n",
       "      <td>1056600</td>\n",
       "    </tr>\n",
       "    <tr>\n",
       "      <th>12</th>\n",
       "      <td>Thomas High School</td>\n",
       "      <td>1043130</td>\n",
       "    </tr>\n",
       "    <tr>\n",
       "      <th>13</th>\n",
       "      <td>Wilson High School</td>\n",
       "      <td>1319574</td>\n",
       "    </tr>\n",
       "    <tr>\n",
       "      <th>14</th>\n",
       "      <td>Wright High School</td>\n",
       "      <td>1049400</td>\n",
       "    </tr>\n",
       "  </tbody>\n",
       "</table>\n",
       "</div>"
      ],
      "text/plain": [
       "                   school   budget\n",
       "0      Bailey High School  3124928\n",
       "1     Cabrera High School  1081356\n",
       "2    Figueroa High School  1884411\n",
       "3        Ford High School  1763916\n",
       "4     Griffin High School   917500\n",
       "5   Hernandez High School  3022020\n",
       "6      Holden High School   248087\n",
       "7       Huang High School  1910635\n",
       "8     Johnson High School  3094650\n",
       "9        Pena High School   585858\n",
       "10  Rodriguez High School  2547363\n",
       "11    Shelton High School  1056600\n",
       "12     Thomas High School  1043130\n",
       "13     Wilson High School  1319574\n",
       "14     Wright High School  1049400"
      ]
     },
     "execution_count": 24,
     "metadata": {},
     "output_type": "execute_result"
    }
   ],
   "source": [
    "school_budget_df = total_info_df.groupby(['school', 'budget']).sum().reset_index()\n",
    "school_budget_df = school_budget_df[['school', 'budget']]\n",
    "school_budget_df['budget'].sum() #Total district budget\n",
    "school_budget_df #total budget per school"
   ]
  },
  {
   "cell_type": "code",
   "execution_count": 8,
   "metadata": {},
   "outputs": [
    {
     "data": {
      "text/plain": [
       "81.87784018381414"
      ]
     },
     "execution_count": 8,
     "metadata": {},
     "output_type": "execute_result"
    }
   ],
   "source": [
    "total_info_df['reading_score'].mean()"
   ]
  },
  {
   "cell_type": "code",
   "execution_count": 9,
   "metadata": {},
   "outputs": [
    {
     "data": {
      "text/plain": [
       "78.98537145774827"
      ]
     },
     "execution_count": 9,
     "metadata": {},
     "output_type": "execute_result"
    }
   ],
   "source": [
    "total_info_df['math_score'].mean()"
   ]
  },
  {
   "cell_type": "markdown",
   "metadata": {},
   "source": [
    "### Calculating the number of students passing math and reading\n",
    "    I use a for-loop to loop through each item in a column, then a conditional (if) statement to count the number of grades over 70 to get the total number of students passing math.\n",
    "    Then I divide that passing number by the total number of students in the district to get the percentage of students passing either subjects.\n"
   ]
  },
  {
   "cell_type": "code",
   "execution_count": 10,
   "metadata": {},
   "outputs": [
    {
     "name": "stdout",
     "output_type": "stream",
     "text": [
      "Total students passing math \n",
      "28356\n"
     ]
    }
   ],
   "source": [
    "passing_math = 0\n",
    "for each in total_info_df.math_score:\n",
    "    if each > 70:\n",
    "        passing_math += 1\n",
    "print(\"Total students passing math \")\n",
    "print(passing_math)"
   ]
  },
  {
   "cell_type": "code",
   "execution_count": 11,
   "metadata": {},
   "outputs": [
    {
     "name": "stdout",
     "output_type": "stream",
     "text": [
      "Percentage of students passing math: \n",
      "72.39213683941792\n"
     ]
    }
   ],
   "source": [
    "print(\"Percentage of students passing math: \")\n",
    "print(passing_math/total_students * 100)"
   ]
  },
  {
   "cell_type": "code",
   "execution_count": 12,
   "metadata": {},
   "outputs": [
    {
     "name": "stdout",
     "output_type": "stream",
     "text": [
      "Percentage of students passing reading: \n",
      "82.97166198621395\n"
     ]
    }
   ],
   "source": [
    "passing_reading = 0\n",
    "for each2 in total_info_df.reading_score:\n",
    "    if each2 > 70:\n",
    "        passing_reading += 1\n",
    "print(\"Percentage of students passing reading: \")\n",
    "print(passing_reading/total_students * 100)"
   ]
  },
  {
   "cell_type": "markdown",
   "metadata": {},
   "source": [
    "#### Another way to get the percentage passing math or reading via adding a boolean column/grouping\n",
    "    Another way to get the percentage is to create another dataframe which creates a column of true/false variables based on any score over 70.  Then merging that dataframe to the \"total\" dataframe based on 'student_id'.\n",
    "    After merging, I will then group the 'True/False' variables via 'groupby' and then call the 'sum' method to count the numbers of each variable."
   ]
  },
  {
   "cell_type": "code",
   "execution_count": 13,
   "metadata": {},
   "outputs": [],
   "source": [
    "passing_math_df = pd.DataFrame(total_info_df['math_score']>70).rename(columns={'math_score':'passing_math'})\n",
    "passing_math_df = passing_math_df.reset_index().rename(columns={'index':'Student ID'})\n",
    "total_info_df = pd.merge(passing_math_df, total_info_df, on='Student ID')\n",
    "#total_info_df.head()"
   ]
  },
  {
   "cell_type": "code",
   "execution_count": 14,
   "metadata": {},
   "outputs": [],
   "source": [
    "passing_reading_df = pd.DataFrame(total_info_df.reading_score > 70).rename(columns={'reading_score':'passing_reading'})\n",
    "passing_reading_df = passing_reading_df.reset_index().rename(columns={'index':'Student ID'})\n",
    "total_info_df = pd.merge(passing_reading_df, total_info_df, on='Student ID')"
   ]
  },
  {
   "cell_type": "code",
   "execution_count": 15,
   "metadata": {},
   "outputs": [],
   "source": [
    "passing_reading_df2 = total_info_df.groupby(\"passing_reading\").count()\n",
    "# passing_reading_df2"
   ]
  },
  {
   "cell_type": "code",
   "execution_count": 18,
   "metadata": {},
   "outputs": [
    {
     "data": {
      "text/plain": [
       "0.8297166198621394"
      ]
     },
     "execution_count": 18,
     "metadata": {},
     "output_type": "execute_result"
    }
   ],
   "source": [
    "passing_reading_df2.loc[True, 'Student ID']/(total_students)"
   ]
  },
  {
   "cell_type": "code",
   "execution_count": 19,
   "metadata": {},
   "outputs": [
    {
     "data": {
      "text/plain": [
       "0.7239213683941792"
      ]
     },
     "execution_count": 19,
     "metadata": {},
     "output_type": "execute_result"
    }
   ],
   "source": [
    "passing_math_df2 = total_info_df.groupby('passing_math').count()\n",
    "passing_math_df2.loc[True, 'Student ID']/total_students"
   ]
  },
  {
   "cell_type": "markdown",
   "metadata": {},
   "source": [
    "### Creating a new column calculating overall passing (average of math and reading)"
   ]
  },
  {
   "cell_type": "code",
   "execution_count": 20,
   "metadata": {
    "collapsed": true
   },
   "outputs": [],
   "source": [
    "total_info_df['overall_passing'] = (total_info_df['reading_score']+total_info_df['math_score'])/2"
   ]
  },
  {
   "cell_type": "code",
   "execution_count": 64,
   "metadata": {},
   "outputs": [],
   "source": [
    "#total_info_df.head()"
   ]
  },
  {
   "cell_type": "code",
   "execution_count": 23,
   "metadata": {},
   "outputs": [
    {
     "data": {
      "text/plain": [
       "34561"
      ]
     },
     "execution_count": 23,
     "metadata": {},
     "output_type": "execute_result"
    }
   ],
   "source": [
    "overall_passing_df = total_info_df.loc[total_info_df['overall_passing'] > 70]\n",
    "len(overall_passing_df)"
   ]
  },
  {
   "cell_type": "code",
   "execution_count": 26,
   "metadata": {},
   "outputs": [
    {
     "data": {
      "text/plain": [
       "0.8823334184324738"
      ]
     },
     "execution_count": 26,
     "metadata": {},
     "output_type": "execute_result"
    }
   ],
   "source": [
    "overall_passing_rate = len(overall_passing_df)/total_students\n",
    "overall_passing_rate"
   ]
  },
  {
   "cell_type": "markdown",
   "metadata": {},
   "source": [
    "### Top Performing Schools (By Passing Rate)\n",
    "\n",
    "* Create a table that highlights the top 5 performing schools based on Overall Passing Rate. Include:\n",
    "  * School Name\n",
    "  * School Type\n",
    "  * Total Students\n",
    "  * Total School Budget\n",
    "  * Per School Budget\n",
    "  * Average Math Score\n",
    "  * Average Reading Score\n",
    "  * % Passing Math\n",
    "  * % Passing Reading\n",
    "  * Overall Passing Rate (Average of the above two)\n"
   ]
  },
  {
   "cell_type": "markdown",
   "metadata": {},
   "source": [
    "* The total_info_df has all of the info needed, so a 'groupby' function is called, then take the 'mean' to get the average 'overall_passing'.  Values are sorted by 'overall_passing' to get the top 5 schools.  When this was done, I noticed that the true-false values were also averaged, hence it translated to a %passing_math and % passing_reading, hence no formula was needed (true values are 1 and false values are 0, hence if 3/5 students are passing, then there are 3 ones and 2 zeros, both of which will add to 60% passing rate)."
   ]
  },
  {
   "cell_type": "code",
   "execution_count": 58,
   "metadata": {},
   "outputs": [
    {
     "name": "stdout",
     "output_type": "stream",
     "text": [
      "Top 5 performing schools based on Overall Passing Rate: \n"
     ]
    },
    {
     "data": {
      "text/html": [
       "<div>\n",
       "<style>\n",
       "    .dataframe thead tr:only-child th {\n",
       "        text-align: right;\n",
       "    }\n",
       "\n",
       "    .dataframe thead th {\n",
       "        text-align: left;\n",
       "    }\n",
       "\n",
       "    .dataframe tbody tr th {\n",
       "        vertical-align: top;\n",
       "    }\n",
       "</style>\n",
       "<table border=\"1\" class=\"dataframe\">\n",
       "  <thead>\n",
       "    <tr style=\"text-align: right;\">\n",
       "      <th></th>\n",
       "      <th>Student ID</th>\n",
       "      <th>passing_reading</th>\n",
       "      <th>passing_math</th>\n",
       "      <th>reading_score</th>\n",
       "      <th>math_score</th>\n",
       "      <th>School ID</th>\n",
       "      <th>size</th>\n",
       "      <th>budget</th>\n",
       "      <th>overall_passing</th>\n",
       "    </tr>\n",
       "    <tr>\n",
       "      <th>school</th>\n",
       "      <th></th>\n",
       "      <th></th>\n",
       "      <th></th>\n",
       "      <th></th>\n",
       "      <th></th>\n",
       "      <th></th>\n",
       "      <th></th>\n",
       "      <th></th>\n",
       "      <th></th>\n",
       "    </tr>\n",
       "  </thead>\n",
       "  <tbody>\n",
       "    <tr>\n",
       "      <th>Pena High School</th>\n",
       "      <td>23754.290391</td>\n",
       "      <td>0.932418</td>\n",
       "      <td>0.929250</td>\n",
       "      <td>84.263992</td>\n",
       "      <td>84.074974</td>\n",
       "      <td>9.0</td>\n",
       "      <td>962.0</td>\n",
       "      <td>585858.0</td>\n",
       "      <td>84.169483</td>\n",
       "    </tr>\n",
       "    <tr>\n",
       "      <th>Holden High School</th>\n",
       "      <td>23060.228571</td>\n",
       "      <td>0.933333</td>\n",
       "      <td>0.921429</td>\n",
       "      <td>84.038095</td>\n",
       "      <td>84.061905</td>\n",
       "      <td>8.0</td>\n",
       "      <td>427.0</td>\n",
       "      <td>248087.0</td>\n",
       "      <td>84.050000</td>\n",
       "    </tr>\n",
       "    <tr>\n",
       "      <th>Wright High School</th>\n",
       "      <td>25135.074635</td>\n",
       "      <td>0.941077</td>\n",
       "      <td>0.911897</td>\n",
       "      <td>84.097643</td>\n",
       "      <td>83.833895</td>\n",
       "      <td>10.0</td>\n",
       "      <td>1800.0</td>\n",
       "      <td>1049400.0</td>\n",
       "      <td>83.965769</td>\n",
       "    </tr>\n",
       "    <tr>\n",
       "      <th>Thomas High School</th>\n",
       "      <td>38354.146402</td>\n",
       "      <td>0.941687</td>\n",
       "      <td>0.913151</td>\n",
       "      <td>84.051489</td>\n",
       "      <td>83.624069</td>\n",
       "      <td>14.0</td>\n",
       "      <td>1635.0</td>\n",
       "      <td>1043130.0</td>\n",
       "      <td>83.837779</td>\n",
       "    </tr>\n",
       "    <tr>\n",
       "      <th>Wilson High School</th>\n",
       "      <td>14870.684374</td>\n",
       "      <td>0.939796</td>\n",
       "      <td>0.918105</td>\n",
       "      <td>84.139442</td>\n",
       "      <td>83.426737</td>\n",
       "      <td>5.0</td>\n",
       "      <td>2283.0</td>\n",
       "      <td>1319574.0</td>\n",
       "      <td>83.783090</td>\n",
       "    </tr>\n",
       "  </tbody>\n",
       "</table>\n",
       "</div>"
      ],
      "text/plain": [
       "                      Student ID  passing_reading  passing_math  \\\n",
       "school                                                            \n",
       "Pena High School    23754.290391         0.932418      0.929250   \n",
       "Holden High School  23060.228571         0.933333      0.921429   \n",
       "Wright High School  25135.074635         0.941077      0.911897   \n",
       "Thomas High School  38354.146402         0.941687      0.913151   \n",
       "Wilson High School  14870.684374         0.939796      0.918105   \n",
       "\n",
       "                    reading_score  math_score  School ID    size     budget  \\\n",
       "school                                                                        \n",
       "Pena High School        84.263992   84.074974        9.0   962.0   585858.0   \n",
       "Holden High School      84.038095   84.061905        8.0   427.0   248087.0   \n",
       "Wright High School      84.097643   83.833895       10.0  1800.0  1049400.0   \n",
       "Thomas High School      84.051489   83.624069       14.0  1635.0  1043130.0   \n",
       "Wilson High School      84.139442   83.426737        5.0  2283.0  1319574.0   \n",
       "\n",
       "                    overall_passing  \n",
       "school                               \n",
       "Pena High School          84.169483  \n",
       "Holden High School        84.050000  \n",
       "Wright High School        83.965769  \n",
       "Thomas High School        83.837779  \n",
       "Wilson High School        83.783090  "
      ]
     },
     "execution_count": 58,
     "metadata": {},
     "output_type": "execute_result"
    }
   ],
   "source": [
    "overall_passing_info_df = total_info_df.loc[total_info_df['overall_passing']>70].groupby(\"school\").mean().sort_values('overall_passing', ascending=False)\n",
    "#total_school_info_df = total_info_df.groupby([\"school\",\"type\",\"size\"]).sum(total_info_df['overall_passing']>70)\n",
    "top_5_overall_passing_schools = overall_passing_info_df.head(5)\n",
    "print(\"Top 5 performing schools based on Overall Passing Rate: \")\n",
    "top_5_overall_passing_schools"
   ]
  },
  {
   "cell_type": "code",
   "execution_count": 59,
   "metadata": {},
   "outputs": [
    {
     "data": {
      "text/html": [
       "<div>\n",
       "<style>\n",
       "    .dataframe thead tr:only-child th {\n",
       "        text-align: right;\n",
       "    }\n",
       "\n",
       "    .dataframe thead th {\n",
       "        text-align: left;\n",
       "    }\n",
       "\n",
       "    .dataframe tbody tr th {\n",
       "        vertical-align: top;\n",
       "    }\n",
       "</style>\n",
       "<table border=\"1\" class=\"dataframe\">\n",
       "  <thead>\n",
       "    <tr style=\"text-align: right;\">\n",
       "      <th></th>\n",
       "      <th>Student ID</th>\n",
       "      <th>passing_reading</th>\n",
       "      <th>passing_math</th>\n",
       "      <th>reading_score</th>\n",
       "      <th>math_score</th>\n",
       "      <th>School ID</th>\n",
       "      <th>size</th>\n",
       "      <th>budget</th>\n",
       "      <th>overall_passing</th>\n",
       "    </tr>\n",
       "    <tr>\n",
       "      <th>school</th>\n",
       "      <th></th>\n",
       "      <th></th>\n",
       "      <th></th>\n",
       "      <th></th>\n",
       "      <th></th>\n",
       "      <th></th>\n",
       "      <th></th>\n",
       "      <th></th>\n",
       "      <th></th>\n",
       "    </tr>\n",
       "  </thead>\n",
       "  <tbody>\n",
       "    <tr>\n",
       "      <th>Rodriguez High School</th>\n",
       "      <td>28018.542754</td>\n",
       "      <td>0.843684</td>\n",
       "      <td>0.749475</td>\n",
       "      <td>82.832283</td>\n",
       "      <td>79.761476</td>\n",
       "      <td>11.0</td>\n",
       "      <td>3999.0</td>\n",
       "      <td>2547363.0</td>\n",
       "      <td>81.296880</td>\n",
       "    </tr>\n",
       "    <tr>\n",
       "      <th>Huang High School</th>\n",
       "      <td>1461.549180</td>\n",
       "      <td>0.859836</td>\n",
       "      <td>0.736885</td>\n",
       "      <td>83.323361</td>\n",
       "      <td>79.464344</td>\n",
       "      <td>0.0</td>\n",
       "      <td>2917.0</td>\n",
       "      <td>1910635.0</td>\n",
       "      <td>81.393852</td>\n",
       "    </tr>\n",
       "    <tr>\n",
       "      <th>Figueroa High School</th>\n",
       "      <td>4395.287398</td>\n",
       "      <td>0.854472</td>\n",
       "      <td>0.743902</td>\n",
       "      <td>83.319919</td>\n",
       "      <td>79.560163</td>\n",
       "      <td>1.0</td>\n",
       "      <td>2949.0</td>\n",
       "      <td>1884411.0</td>\n",
       "      <td>81.440041</td>\n",
       "    </tr>\n",
       "    <tr>\n",
       "      <th>Ford High School</th>\n",
       "      <td>36156.273325</td>\n",
       "      <td>0.846693</td>\n",
       "      <td>0.768725</td>\n",
       "      <td>82.872098</td>\n",
       "      <td>80.081472</td>\n",
       "      <td>13.0</td>\n",
       "      <td>2739.0</td>\n",
       "      <td>1763916.0</td>\n",
       "      <td>81.476785</td>\n",
       "    </tr>\n",
       "    <tr>\n",
       "      <th>Bailey High School</th>\n",
       "      <td>20377.612431</td>\n",
       "      <td>0.861531</td>\n",
       "      <td>0.749220</td>\n",
       "      <td>83.074634</td>\n",
       "      <td>79.908327</td>\n",
       "      <td>7.0</td>\n",
       "      <td>4976.0</td>\n",
       "      <td>3124928.0</td>\n",
       "      <td>81.491481</td>\n",
       "    </tr>\n",
       "  </tbody>\n",
       "</table>\n",
       "</div>"
      ],
      "text/plain": [
       "                         Student ID  passing_reading  passing_math  \\\n",
       "school                                                               \n",
       "Rodriguez High School  28018.542754         0.843684      0.749475   \n",
       "Huang High School       1461.549180         0.859836      0.736885   \n",
       "Figueroa High School    4395.287398         0.854472      0.743902   \n",
       "Ford High School       36156.273325         0.846693      0.768725   \n",
       "Bailey High School     20377.612431         0.861531      0.749220   \n",
       "\n",
       "                       reading_score  math_score  School ID    size  \\\n",
       "school                                                                \n",
       "Rodriguez High School      82.832283   79.761476       11.0  3999.0   \n",
       "Huang High School          83.323361   79.464344        0.0  2917.0   \n",
       "Figueroa High School       83.319919   79.560163        1.0  2949.0   \n",
       "Ford High School           82.872098   80.081472       13.0  2739.0   \n",
       "Bailey High School         83.074634   79.908327        7.0  4976.0   \n",
       "\n",
       "                          budget  overall_passing  \n",
       "school                                             \n",
       "Rodriguez High School  2547363.0        81.296880  \n",
       "Huang High School      1910635.0        81.393852  \n",
       "Figueroa High School   1884411.0        81.440041  \n",
       "Ford High School       1763916.0        81.476785  \n",
       "Bailey High School     3124928.0        81.491481  "
      ]
     },
     "execution_count": 59,
     "metadata": {},
     "output_type": "execute_result"
    }
   ],
   "source": [
    "overall_passing_info_df2 = total_info_df.loc[total_info_df['overall_passing']>70].groupby(\"school\").mean().sort_values('overall_passing')\n",
    "overall_passing_info_df2.head(5)\n"
   ]
  },
  {
   "cell_type": "code",
   "execution_count": 63,
   "metadata": {},
   "outputs": [
    {
     "data": {
      "text/html": [
       "<div>\n",
       "<style>\n",
       "    .dataframe thead tr:only-child th {\n",
       "        text-align: right;\n",
       "    }\n",
       "\n",
       "    .dataframe thead th {\n",
       "        text-align: left;\n",
       "    }\n",
       "\n",
       "    .dataframe tbody tr th {\n",
       "        vertical-align: top;\n",
       "    }\n",
       "</style>\n",
       "<table border=\"1\" class=\"dataframe\">\n",
       "  <thead>\n",
       "    <tr style=\"text-align: right;\">\n",
       "      <th></th>\n",
       "      <th>Student ID</th>\n",
       "      <th>passing_reading</th>\n",
       "      <th>passing_math</th>\n",
       "      <th>reading_score</th>\n",
       "      <th>math_score</th>\n",
       "      <th>School ID</th>\n",
       "      <th>size</th>\n",
       "      <th>budget</th>\n",
       "      <th>overall_passing</th>\n",
       "    </tr>\n",
       "    <tr>\n",
       "      <th>grade</th>\n",
       "      <th></th>\n",
       "      <th></th>\n",
       "      <th></th>\n",
       "      <th></th>\n",
       "      <th></th>\n",
       "      <th></th>\n",
       "      <th></th>\n",
       "      <th></th>\n",
       "      <th></th>\n",
       "    </tr>\n",
       "  </thead>\n",
       "  <tbody>\n",
       "    <tr>\n",
       "      <th>10th</th>\n",
       "      <td>19526.197384</td>\n",
       "      <td>0.831727</td>\n",
       "      <td>0.723938</td>\n",
       "      <td>81.874410</td>\n",
       "      <td>78.941483</td>\n",
       "      <td>6.957809</td>\n",
       "      <td>3320.842742</td>\n",
       "      <td>2.109723e+06</td>\n",
       "      <td>80.407946</td>\n",
       "    </tr>\n",
       "    <tr>\n",
       "      <th>11th</th>\n",
       "      <td>19718.880454</td>\n",
       "      <td>0.827643</td>\n",
       "      <td>0.725735</td>\n",
       "      <td>81.885714</td>\n",
       "      <td>79.083548</td>\n",
       "      <td>7.032697</td>\n",
       "      <td>3327.886333</td>\n",
       "      <td>2.113090e+06</td>\n",
       "      <td>80.484631</td>\n",
       "    </tr>\n",
       "    <tr>\n",
       "      <th>12th</th>\n",
       "      <td>19458.792885</td>\n",
       "      <td>0.825294</td>\n",
       "      <td>0.723889</td>\n",
       "      <td>81.819851</td>\n",
       "      <td>78.993164</td>\n",
       "      <td>6.925054</td>\n",
       "      <td>3332.978478</td>\n",
       "      <td>2.116915e+06</td>\n",
       "      <td>80.406507</td>\n",
       "    </tr>\n",
       "    <tr>\n",
       "      <th>9th</th>\n",
       "      <td>19609.303910</td>\n",
       "      <td>0.832749</td>\n",
       "      <td>0.722388</td>\n",
       "      <td>81.914358</td>\n",
       "      <td>78.935659</td>\n",
       "      <td>6.986764</td>\n",
       "      <td>3348.049264</td>\n",
       "      <td>2.127695e+06</td>\n",
       "      <td>80.425009</td>\n",
       "    </tr>\n",
       "  </tbody>\n",
       "</table>\n",
       "</div>"
      ],
      "text/plain": [
       "         Student ID  passing_reading  passing_math  reading_score  math_score  \\\n",
       "grade                                                                           \n",
       "10th   19526.197384         0.831727      0.723938      81.874410   78.941483   \n",
       "11th   19718.880454         0.827643      0.725735      81.885714   79.083548   \n",
       "12th   19458.792885         0.825294      0.723889      81.819851   78.993164   \n",
       "9th    19609.303910         0.832749      0.722388      81.914358   78.935659   \n",
       "\n",
       "       School ID         size        budget  overall_passing  \n",
       "grade                                                         \n",
       "10th    6.957809  3320.842742  2.109723e+06        80.407946  \n",
       "11th    7.032697  3327.886333  2.113090e+06        80.484631  \n",
       "12th    6.925054  3332.978478  2.116915e+06        80.406507  \n",
       "9th     6.986764  3348.049264  2.127695e+06        80.425009  "
      ]
     },
     "execution_count": 63,
     "metadata": {},
     "output_type": "execute_result"
    }
   ],
   "source": [
    "grade_year_info_df = total_info_df.groupby(['grade']).mean()\n",
    "grade_year_info_df"
   ]
  },
  {
   "cell_type": "code",
   "execution_count": null,
   "metadata": {
    "collapsed": true
   },
   "outputs": [],
   "source": []
  }
 ],
 "metadata": {
  "kernelspec": {
   "display_name": "Python [conda env:PythonData]",
   "language": "python",
   "name": "conda-env-PythonData-py"
  },
  "language_info": {
   "codemirror_mode": {
    "name": "ipython",
    "version": 3
   },
   "file_extension": ".py",
   "mimetype": "text/x-python",
   "name": "python",
   "nbconvert_exporter": "python",
   "pygments_lexer": "ipython3",
   "version": "3.6.1"
  }
 },
 "nbformat": 4,
 "nbformat_minor": 2
}
